{
  "nbformat": 4,
  "nbformat_minor": 0,
  "metadata": {
    "colab": {
      "provenance": [],
      "gpuType": "T4",
      "authorship_tag": "ABX9TyPd61Vuha/lSdKgczR6PmIN",
      "include_colab_link": true
    },
    "kernelspec": {
      "name": "python3",
      "display_name": "Python 3"
    },
    "language_info": {
      "name": "python"
    },
    "accelerator": "GPU"
  },
  "cells": [
    {
      "cell_type": "markdown",
      "metadata": {
        "id": "view-in-github",
        "colab_type": "text"
      },
      "source": [
        "<a href=\"https://colab.research.google.com/github/Armin-Abdollahi/Convolution-Neural-Network/blob/main/Convolution_on_CIFAR10.ipynb\" target=\"_parent\"><img src=\"https://colab.research.google.com/assets/colab-badge.svg\" alt=\"Open In Colab\"/></a>"
      ]
    },
    {
      "cell_type": "code",
      "execution_count": null,
      "metadata": {
        "id": "cZr85kB69S13"
      },
      "outputs": [],
      "source": [
        "# Import the Necessary Libraries\n",
        "import tensorflow as tf\n",
        "from tensorflow import keras\n",
        "from tensorflow.keras import layers\n",
        "from matplotlib import pyplot as plt"
      ]
    },
    {
      "cell_type": "code",
      "source": [
        "# Load the CIFAR10 dataset\n",
        "(x_train, y_train), (x_test, y_test) = keras.datasets.cifar10.load_data()"
      ],
      "metadata": {
        "id": "EprRR9pS9cRz",
        "colab": {
          "base_uri": "https://localhost:8080/"
        },
        "outputId": "ae03f08d-72de-41b5-ab2b-10e27b05b156"
      },
      "execution_count": null,
      "outputs": [
        {
          "output_type": "stream",
          "name": "stdout",
          "text": [
            "Downloading data from https://www.cs.toronto.edu/~kriz/cifar-10-python.tar.gz\n",
            "170498071/170498071 [==============================] - 2s 0us/step\n"
          ]
        }
      ]
    },
    {
      "cell_type": "code",
      "source": [
        "# Normalize pixel values to be between 0 and 1\n",
        "x_train = x_train.astype(\"float32\") / 255\n",
        "x_test = x_test.astype(\"float32\") / 255"
      ],
      "metadata": {
        "id": "cfy4zGmp9cuV"
      },
      "execution_count": null,
      "outputs": []
    },
    {
      "cell_type": "code",
      "source": [
        "# Define the model\n",
        "model = keras.Sequential(\n",
        "    [\n",
        "        layers.Conv2D(128, (3, 3), activation=\"sigmoid\"),\n",
        "        layers.MaxPooling2D(pool_size=(2, 2)),\n",
        "\n",
        "\n",
        "        layers.Conv2D(64, (3, 3), activation=\"sigmoid\"),\n",
        "        layers.MaxPooling2D(pool_size=(2, 2)),\n",
        "\n",
        "\n",
        "        layers.Conv2D(32, (3, 3), activation=\"sigmoid\"),\n",
        "        layers.MaxPooling2D(pool_size=(2, 2)),\n",
        "\n",
        "\n",
        "        layers.Flatten(input_shape=(32, 32, 3)),\n",
        "        layers.Dense(10, activation=\"softmax\"),\n",
        "    ]\n",
        ")"
      ],
      "metadata": {
        "id": "j_6n5TF_-uB7"
      },
      "execution_count": null,
      "outputs": []
    },
    {
      "cell_type": "code",
      "source": [
        "# Compile the model\n",
        "model.compile(\n",
        "    optimizer=\"adam\", loss=\"sparse_categorical_crossentropy\", metrics=[\"accuracy\"]\n",
        ")"
      ],
      "metadata": {
        "id": "uZ30TqWq-uY8"
      },
      "execution_count": null,
      "outputs": []
    },
    {
      "cell_type": "code",
      "source": [
        "# Train the model\n",
        "history = model.fit(x_train, y_train,validation_split = 0.1, epochs=50, batch_size=4, validation_data=(x_test, y_test))"
      ],
      "metadata": {
        "colab": {
          "base_uri": "https://localhost:8080/"
        },
        "id": "2_Jt60PE_0xy",
        "outputId": "85ecda70-e2ee-4d8d-c7f7-82c70cee9381"
      },
      "execution_count": null,
      "outputs": [
        {
          "output_type": "stream",
          "name": "stdout",
          "text": [
            "Epoch 1/50\n",
            "12500/12500 [==============================] - 54s 4ms/step - loss: 1.9278 - accuracy: 0.2844 - val_loss: 1.6278 - val_accuracy: 0.4112\n",
            "Epoch 2/50\n",
            "12500/12500 [==============================] - 51s 4ms/step - loss: 1.5139 - accuracy: 0.4523 - val_loss: 1.5244 - val_accuracy: 0.4547\n",
            "Epoch 3/50\n",
            "12500/12500 [==============================] - 51s 4ms/step - loss: 1.3943 - accuracy: 0.5005 - val_loss: 1.3846 - val_accuracy: 0.5019\n",
            "Epoch 4/50\n",
            "12500/12500 [==============================] - 51s 4ms/step - loss: 1.3087 - accuracy: 0.5279 - val_loss: 1.2969 - val_accuracy: 0.5403\n",
            "Epoch 5/50\n",
            "12500/12500 [==============================] - 51s 4ms/step - loss: 1.2338 - accuracy: 0.5595 - val_loss: 1.2821 - val_accuracy: 0.5386\n",
            "Epoch 6/50\n",
            "12500/12500 [==============================] - 52s 4ms/step - loss: 1.1668 - accuracy: 0.5854 - val_loss: 1.1849 - val_accuracy: 0.5757\n",
            "Epoch 7/50\n",
            "12500/12500 [==============================] - 52s 4ms/step - loss: 1.1131 - accuracy: 0.6060 - val_loss: 1.1427 - val_accuracy: 0.5992\n",
            "Epoch 8/50\n",
            "12500/12500 [==============================] - 51s 4ms/step - loss: 1.0680 - accuracy: 0.6232 - val_loss: 1.1425 - val_accuracy: 0.6004\n",
            "Epoch 9/50\n",
            "12500/12500 [==============================] - 56s 4ms/step - loss: 1.0285 - accuracy: 0.6371 - val_loss: 1.1446 - val_accuracy: 0.6034\n",
            "Epoch 10/50\n",
            "12500/12500 [==============================] - 52s 4ms/step - loss: 0.9957 - accuracy: 0.6496 - val_loss: 1.0704 - val_accuracy: 0.6259\n",
            "Epoch 11/50\n",
            "12500/12500 [==============================] - 57s 5ms/step - loss: 0.9666 - accuracy: 0.6594 - val_loss: 1.0657 - val_accuracy: 0.6235\n",
            "Epoch 12/50\n",
            "12500/12500 [==============================] - 52s 4ms/step - loss: 0.9380 - accuracy: 0.6724 - val_loss: 1.0860 - val_accuracy: 0.6178\n",
            "Epoch 13/50\n",
            "12500/12500 [==============================] - 52s 4ms/step - loss: 0.9183 - accuracy: 0.6778 - val_loss: 1.1001 - val_accuracy: 0.6170\n",
            "Epoch 14/50\n",
            "12500/12500 [==============================] - 51s 4ms/step - loss: 0.8946 - accuracy: 0.6863 - val_loss: 1.0884 - val_accuracy: 0.6262\n",
            "Epoch 15/50\n",
            "12500/12500 [==============================] - 51s 4ms/step - loss: 0.8725 - accuracy: 0.6940 - val_loss: 1.0592 - val_accuracy: 0.6349\n",
            "Epoch 16/50\n",
            "12500/12500 [==============================] - 51s 4ms/step - loss: 0.8531 - accuracy: 0.7017 - val_loss: 1.0230 - val_accuracy: 0.6431\n",
            "Epoch 17/50\n",
            "12500/12500 [==============================] - 52s 4ms/step - loss: 0.8347 - accuracy: 0.7086 - val_loss: 1.0712 - val_accuracy: 0.6317\n",
            "Epoch 18/50\n",
            "12500/12500 [==============================] - 52s 4ms/step - loss: 0.8149 - accuracy: 0.7164 - val_loss: 1.0268 - val_accuracy: 0.6495\n",
            "Epoch 19/50\n",
            "12500/12500 [==============================] - 56s 4ms/step - loss: 0.7971 - accuracy: 0.7211 - val_loss: 1.0470 - val_accuracy: 0.6463\n",
            "Epoch 20/50\n",
            "12500/12500 [==============================] - 52s 4ms/step - loss: 0.7848 - accuracy: 0.7259 - val_loss: 1.0359 - val_accuracy: 0.6480\n",
            "Epoch 21/50\n",
            "12500/12500 [==============================] - 58s 5ms/step - loss: 0.7668 - accuracy: 0.7304 - val_loss: 1.1233 - val_accuracy: 0.6249\n",
            "Epoch 22/50\n",
            "12500/12500 [==============================] - 51s 4ms/step - loss: 0.7532 - accuracy: 0.7360 - val_loss: 1.0160 - val_accuracy: 0.6559\n",
            "Epoch 23/50\n",
            "12500/12500 [==============================] - 51s 4ms/step - loss: 0.7355 - accuracy: 0.7441 - val_loss: 1.0621 - val_accuracy: 0.6470\n",
            "Epoch 24/50\n",
            "12500/12500 [==============================] - 56s 5ms/step - loss: 0.7240 - accuracy: 0.7457 - val_loss: 1.0678 - val_accuracy: 0.6469\n",
            "Epoch 25/50\n",
            "12500/12500 [==============================] - 51s 4ms/step - loss: 0.7118 - accuracy: 0.7505 - val_loss: 1.0570 - val_accuracy: 0.6508\n",
            "Epoch 26/50\n",
            "12500/12500 [==============================] - 52s 4ms/step - loss: 0.6975 - accuracy: 0.7558 - val_loss: 1.0671 - val_accuracy: 0.6431\n",
            "Epoch 27/50\n",
            "12500/12500 [==============================] - 51s 4ms/step - loss: 0.6838 - accuracy: 0.7583 - val_loss: 1.0862 - val_accuracy: 0.6430\n",
            "Epoch 28/50\n",
            "12500/12500 [==============================] - 51s 4ms/step - loss: 0.6719 - accuracy: 0.7637 - val_loss: 1.0843 - val_accuracy: 0.6474\n",
            "Epoch 29/50\n",
            "12500/12500 [==============================] - 51s 4ms/step - loss: 0.6622 - accuracy: 0.7649 - val_loss: 1.0705 - val_accuracy: 0.6489\n",
            "Epoch 30/50\n",
            "12500/12500 [==============================] - 52s 4ms/step - loss: 0.6488 - accuracy: 0.7716 - val_loss: 1.1033 - val_accuracy: 0.6452\n",
            "Epoch 31/50\n",
            "12500/12500 [==============================] - 52s 4ms/step - loss: 0.6364 - accuracy: 0.7753 - val_loss: 1.1106 - val_accuracy: 0.6434\n",
            "Epoch 32/50\n",
            "12500/12500 [==============================] - 51s 4ms/step - loss: 0.6273 - accuracy: 0.7789 - val_loss: 1.1072 - val_accuracy: 0.6505\n",
            "Epoch 33/50\n",
            "12500/12500 [==============================] - 51s 4ms/step - loss: 0.6193 - accuracy: 0.7823 - val_loss: 1.1274 - val_accuracy: 0.6451\n",
            "Epoch 34/50\n",
            "12500/12500 [==============================] - 51s 4ms/step - loss: 0.6029 - accuracy: 0.7864 - val_loss: 1.1503 - val_accuracy: 0.6439\n",
            "Epoch 35/50\n",
            "12500/12500 [==============================] - 52s 4ms/step - loss: 0.5939 - accuracy: 0.7925 - val_loss: 1.1664 - val_accuracy: 0.6379\n",
            "Epoch 36/50\n",
            "12500/12500 [==============================] - 57s 5ms/step - loss: 0.5862 - accuracy: 0.7926 - val_loss: 1.1527 - val_accuracy: 0.6444\n",
            "Epoch 37/50\n",
            "12500/12500 [==============================] - 51s 4ms/step - loss: 0.5776 - accuracy: 0.7966 - val_loss: 1.1683 - val_accuracy: 0.6463\n",
            "Epoch 38/50\n",
            "12500/12500 [==============================] - 51s 4ms/step - loss: 0.5663 - accuracy: 0.7992 - val_loss: 1.1584 - val_accuracy: 0.6450\n",
            "Epoch 39/50\n",
            "12500/12500 [==============================] - 52s 4ms/step - loss: 0.5588 - accuracy: 0.8025 - val_loss: 1.1791 - val_accuracy: 0.6424\n",
            "Epoch 40/50\n",
            "12500/12500 [==============================] - 52s 4ms/step - loss: 0.5495 - accuracy: 0.8054 - val_loss: 1.1761 - val_accuracy: 0.6491\n",
            "Epoch 41/50\n",
            "12500/12500 [==============================] - 52s 4ms/step - loss: 0.5410 - accuracy: 0.8095 - val_loss: 1.1902 - val_accuracy: 0.6450\n",
            "Epoch 42/50\n",
            "12500/12500 [==============================] - 51s 4ms/step - loss: 0.5298 - accuracy: 0.8135 - val_loss: 1.2251 - val_accuracy: 0.6397\n",
            "Epoch 43/50\n",
            "12500/12500 [==============================] - 52s 4ms/step - loss: 0.5250 - accuracy: 0.8122 - val_loss: 1.2310 - val_accuracy: 0.6391\n",
            "Epoch 44/50\n",
            "12500/12500 [==============================] - 56s 4ms/step - loss: 0.5138 - accuracy: 0.8185 - val_loss: 1.2550 - val_accuracy: 0.6426\n",
            "Epoch 45/50\n",
            "12500/12500 [==============================] - 52s 4ms/step - loss: 0.5081 - accuracy: 0.8202 - val_loss: 1.2720 - val_accuracy: 0.6400\n",
            "Epoch 46/50\n",
            "12500/12500 [==============================] - 57s 5ms/step - loss: 0.4977 - accuracy: 0.8249 - val_loss: 1.2678 - val_accuracy: 0.6354\n",
            "Epoch 47/50\n",
            "12500/12500 [==============================] - 51s 4ms/step - loss: 0.4919 - accuracy: 0.8250 - val_loss: 1.2830 - val_accuracy: 0.6381\n",
            "Epoch 48/50\n",
            "12500/12500 [==============================] - 51s 4ms/step - loss: 0.4863 - accuracy: 0.8280 - val_loss: 1.3038 - val_accuracy: 0.6326\n",
            "Epoch 49/50\n",
            "12500/12500 [==============================] - 57s 5ms/step - loss: 0.4760 - accuracy: 0.8324 - val_loss: 1.3191 - val_accuracy: 0.6401\n",
            "Epoch 50/50\n",
            "12500/12500 [==============================] - 53s 4ms/step - loss: 0.4688 - accuracy: 0.8346 - val_loss: 1.3413 - val_accuracy: 0.6379\n"
          ]
        }
      ]
    },
    {
      "cell_type": "code",
      "source": [
        "plt.plot(history.history['accuracy'])\n",
        "plt.plot(history.history['val_accuracy'])\n",
        "plt.title('model accuracy')\n",
        "plt.ylabel('accuracy')\n",
        "plt.xlabel('epoch')\n",
        "plt.legend(['train', 'val'], loc='upper left')\n",
        "plt.show()"
      ],
      "metadata": {
        "colab": {
          "base_uri": "https://localhost:8080/",
          "height": 472
        },
        "id": "dATNPxAhgzOy",
        "outputId": "8d96a130-2b21-4827-cbdf-43eee82f098c"
      },
      "execution_count": null,
      "outputs": [
        {
          "output_type": "display_data",
          "data": {
            "text/plain": [
              "<Figure size 640x480 with 1 Axes>"
            ],
            "image/png": "[encoded data removed]"
          },
          "metadata": {}
        }
      ]
    }
  ]
}